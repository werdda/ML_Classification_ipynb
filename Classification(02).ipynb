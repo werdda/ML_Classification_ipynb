{
 "cells": [
  {
   "cell_type": "code",
   "execution_count": 1,
   "metadata": {},
   "outputs": [],
   "source": [
    "from pyspark.sql import SparkSession\n",
    "from pyspark.sql.functions import *\n",
    "from pyspark.ml.feature import StandardScaler, VectorAssembler\n",
    "from pyspark.ml.classification import LogisticRegression\n",
    "from pyspark.ml.evaluation import BinaryClassificationEvaluator\n",
    "from pyspark.sql.types import IntegerType"
   ]
  },
  {
   "cell_type": "code",
   "execution_count": 2,
   "metadata": {},
   "outputs": [],
   "source": [
    "spark = SparkSession.builder.getOrCreate()"
   ]
  },
  {
   "cell_type": "code",
   "execution_count": 3,
   "metadata": {},
   "outputs": [],
   "source": [
    "df_train = spark.read.csv(\"BigFootTraining.csv\", header=True, inferSchema=True)\n",
    "df_test = spark.read.csv(\"BigFootTesting.csv\", header=True, inferSchema=True)"
   ]
  },
  {
   "cell_type": "code",
   "execution_count": 4,
   "metadata": {},
   "outputs": [
    {
     "name": "stdout",
     "output_type": "stream",
     "text": [
      "+---------+------+------+---------+-----------+\n",
      "|fur_color|height|weight|eye_color|prehistoric|\n",
      "+---------+------+------+---------+-----------+\n",
      "|     grey|226 cm|122 kg|    green|       true|\n",
      "|      red|294 cm|135 kg|     blue|       true|\n",
      "|    white|191 cm| 94 kg|    black|       true|\n",
      "|     grey|168 cm| 69 kg|    brown|      false|\n",
      "|    brown|298 cm|126 kg|     blue|       true|\n",
      "|    black|253 cm|111 kg|    black|       true|\n",
      "|    brown|167 cm|104 kg|    green|      false|\n",
      "|     grey|239 cm|162 kg|    brown|       true|\n",
      "|      red|216 cm|210 kg|    brown|      false|\n",
      "|      red|188 cm|105 kg|    black|      false|\n",
      "|    brown|281 cm|212 kg|    black|       true|\n",
      "|    black|264 cm|271 kg|    black|       true|\n",
      "|    brown|252 cm|238 kg|     blue|       true|\n",
      "|      red|243 cm|280 kg|    brown|       true|\n",
      "|    black|282 cm| 80 kg|     blue|       true|\n",
      "|   orange|262 cm| 79 kg|     blue|       true|\n",
      "|    brown|258 cm|171 kg|    green|       true|\n",
      "|dark grey|187 cm|216 kg|    green|      false|\n",
      "|    brown|249 cm|205 kg|    black|       true|\n",
      "|     null|260 cm|231 kg|     blue|       true|\n",
      "+---------+------+------+---------+-----------+\n",
      "only showing top 20 rows\n",
      "\n"
     ]
    }
   ],
   "source": [
    "df_train.show()"
   ]
  },
  {
   "cell_type": "code",
   "execution_count": 5,
   "metadata": {},
   "outputs": [],
   "source": [
    "df_train = df_train.select(\"height\", \"weight\", \"eye_color\", \"prehistoric\")\n",
    "df_test = df_test.select(\"height\", \"weight\", \"eye_color\", \"prehistoric\")"
   ]
  },
  {
   "cell_type": "code",
   "execution_count": 6,
   "metadata": {},
   "outputs": [],
   "source": [
    "df_train = df_train.dropna()\n",
    "df_test = df_test.dropna()"
   ]
  },
  {
   "cell_type": "code",
   "execution_count": 7,
   "metadata": {},
   "outputs": [
    {
     "name": "stdout",
     "output_type": "stream",
     "text": [
      "+------+------+---------+-----------+\n",
      "|height|weight|eye_color|prehistoric|\n",
      "+------+------+---------+-----------+\n",
      "|226 cm|122 kg|    green|       true|\n",
      "|294 cm|135 kg|     blue|       true|\n",
      "|191 cm| 94 kg|    black|       true|\n",
      "|168 cm| 69 kg|    brown|      false|\n",
      "|298 cm|126 kg|     blue|       true|\n",
      "|253 cm|111 kg|    black|       true|\n",
      "|167 cm|104 kg|    green|      false|\n",
      "|239 cm|162 kg|    brown|       true|\n",
      "|216 cm|210 kg|    brown|      false|\n",
      "|188 cm|105 kg|    black|      false|\n",
      "|281 cm|212 kg|    black|       true|\n",
      "|264 cm|271 kg|    black|       true|\n",
      "|252 cm|238 kg|     blue|       true|\n",
      "|243 cm|280 kg|    brown|       true|\n",
      "|282 cm| 80 kg|     blue|       true|\n",
      "|262 cm| 79 kg|     blue|       true|\n",
      "|258 cm|171 kg|    green|       true|\n",
      "|187 cm|216 kg|    green|      false|\n",
      "|249 cm|205 kg|    black|       true|\n",
      "|260 cm|231 kg|     blue|       true|\n",
      "+------+------+---------+-----------+\n",
      "only showing top 20 rows\n",
      "\n"
     ]
    }
   ],
   "source": [
    "df_train.show()"
   ]
  },
  {
   "cell_type": "code",
   "execution_count": 8,
   "metadata": {},
   "outputs": [],
   "source": [
    "df_train = df_train.withColumn(\"prehistoric\", when(df_train[\"prehistoric\"] == \"true\", 1).\n",
    "                                              when(df_train[\"prehistoric\"] == \"false\", 0))\n",
    "\n",
    "df_test = df_test.withColumn(\"prehistoric\", when(df_test[\"prehistoric\"] == \"true\", 1).\n",
    "                                              when(df_test[\"prehistoric\"] == \"false\", 0))"
   ]
  },
  {
   "cell_type": "code",
   "execution_count": 9,
   "metadata": {},
   "outputs": [],
   "source": [
    "df_train = df_train.withColumn(\"height\", regexp_replace(\"height\", \"cm\", \"\")).withColumn(\"weight\", regexp_replace(\"weight\", \"kg\", \"\"))\n"
   ]
  },
  {
   "cell_type": "code",
   "execution_count": 10,
   "metadata": {},
   "outputs": [],
   "source": [
    "df_test = df_test.withColumn(\"height\", regexp_replace(\"height\", \"cm\", \"\")).withColumn(\"weight\", regexp_replace(\"weight\", \"kg\", \"\"))"
   ]
  },
  {
   "cell_type": "code",
   "execution_count": 11,
   "metadata": {},
   "outputs": [],
   "source": [
    "df_train = df_train.withColumn(\"eye_color\", \n",
    "                               when(df_train[\"eye_color\"] == \"green\", 0).\n",
    "                               when(df_train[\"eye_color\"] == \"blue\", 1).\n",
    "                               when(df_train[\"eye_color\"] == \"black\", 2).\n",
    "                               when(df_train[\"eye_color\"] == \"brown\", 3))\n",
    "\n",
    "\n",
    "df_test = df_test.withColumn(\"eye_color\", \n",
    "                               when(df_test[\"eye_color\"] == \"green\", 0).\n",
    "                               when(df_test[\"eye_color\"] == \"blue\", 1).\n",
    "                               when(df_test[\"eye_color\"] == \"black\", 2).\n",
    "                               when(df_test[\"eye_color\"] == \"brown\", 3))\n"
   ]
  },
  {
   "cell_type": "code",
   "execution_count": 12,
   "metadata": {},
   "outputs": [],
   "source": [
    "df_train = df_train.withColumn(\"height\", regexp_replace(\"height\", \" \", \"\"))\n",
    "df_train = df_train.withColumn(\"weight\", regexp_replace(\"weight\", \" \", \"\"))\n",
    "\n",
    "df_test = df_test.withColumn(\"height\", regexp_replace(\"height\", \" \", \"\"))\n",
    "df_test = df_test.withColumn(\"weight\", regexp_replace(\"weight\", \" \", \"\"))"
   ]
  },
  {
   "cell_type": "code",
   "execution_count": 13,
   "metadata": {},
   "outputs": [],
   "source": [
    "df_train = df_train.withColumn(\"height\", df_train[\"height\"].cast(IntegerType()))\n",
    "df_train = df_train.withColumn(\"weight\", df_train[\"weight\"].cast(IntegerType()))\n",
    "\n",
    "df_test = df_test.withColumn(\"height\", df_test[\"height\"].cast(IntegerType()))\n",
    "df_test = df_test.withColumn(\"weight\", df_test[\"weight\"].cast(IntegerType()))"
   ]
  },
  {
   "cell_type": "code",
   "execution_count": 14,
   "metadata": {},
   "outputs": [],
   "source": [
    "df_train = df_train.dropna()\n",
    "df_test = df_test.dropna()"
   ]
  },
  {
   "cell_type": "code",
   "execution_count": 15,
   "metadata": {},
   "outputs": [],
   "source": [
    "cols = df_train.columns\n",
    "cols.remove(\"prehistoric\")"
   ]
  },
  {
   "cell_type": "code",
   "execution_count": 16,
   "metadata": {},
   "outputs": [],
   "source": [
    "df_train = VectorAssembler(inputCols=cols, outputCol=\"VectorOut\").transform(df_train)\n",
    "df_test = VectorAssembler(inputCols=cols, outputCol=\"VectorOut\").transform(df_test)"
   ]
  },
  {
   "cell_type": "code",
   "execution_count": 17,
   "metadata": {},
   "outputs": [],
   "source": [
    "df_train = StandardScaler(inputCol=\"VectorOut\", outputCol=\"features\").fit(df_train).transform(df_train)\n",
    "df_test = StandardScaler(inputCol=\"VectorOut\", outputCol=\"features\").fit(df_test).transform(df_test)"
   ]
  },
  {
   "cell_type": "code",
   "execution_count": 18,
   "metadata": {},
   "outputs": [],
   "source": [
    "model = LogisticRegression(featuresCol=\"features\", labelCol=\"prehistoric\", maxIter=10).fit(df_train)\n",
    "prediction = model.transform(df_test)\n"
   ]
  },
  {
   "cell_type": "code",
   "execution_count": 21,
   "metadata": {},
   "outputs": [
    {
     "name": "stdout",
     "output_type": "stream",
     "text": [
      "+----------+-----------+\n",
      "|prediction|prehistoric|\n",
      "+----------+-----------+\n",
      "|       0.0|          0|\n",
      "|       0.0|          1|\n",
      "|       1.0|          1|\n",
      "|       0.0|          0|\n",
      "|       1.0|          1|\n",
      "|       1.0|          0|\n",
      "|       1.0|          1|\n",
      "|       0.0|          0|\n",
      "|       0.0|          0|\n",
      "|       1.0|          0|\n",
      "|       0.0|          0|\n",
      "|       0.0|          0|\n",
      "|       0.0|          1|\n",
      "|       0.0|          0|\n",
      "|       0.0|          0|\n",
      "|       0.0|          0|\n",
      "|       0.0|          0|\n",
      "|       1.0|          1|\n",
      "|       0.0|          1|\n",
      "|       1.0|          1|\n",
      "+----------+-----------+\n",
      "only showing top 20 rows\n",
      "\n"
     ]
    }
   ],
   "source": [
    "prediction.select(\"prediction\", \"prehistoric\").show()"
   ]
  },
  {
   "cell_type": "code",
   "execution_count": 23,
   "metadata": {},
   "outputs": [],
   "source": [
    "evaluator = BinaryClassificationEvaluator(labelCol=\"prehistoric\")"
   ]
  },
  {
   "cell_type": "code",
   "execution_count": 24,
   "metadata": {},
   "outputs": [
    {
     "name": "stdout",
     "output_type": "stream",
     "text": [
      "0.6828097129800195\n"
     ]
    }
   ],
   "source": [
    "print(f'{evaluator.evaluate(prediction)}')"
   ]
  }
 ],
 "metadata": {
  "kernelspec": {
   "display_name": "Python 3",
   "language": "python",
   "name": "python3"
  },
  "language_info": {
   "codemirror_mode": {
    "name": "ipython",
    "version": 3
   },
   "file_extension": ".py",
   "mimetype": "text/x-python",
   "name": "python",
   "nbconvert_exporter": "python",
   "pygments_lexer": "ipython3",
   "version": "3.7.4"
  }
 },
 "nbformat": 4,
 "nbformat_minor": 2
}
